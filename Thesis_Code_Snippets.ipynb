{
  "nbformat": 4,
  "nbformat_minor": 0,
  "metadata": {
    "colab": {
      "provenance": [],
      "authorship_tag": "ABX9TyO0VtC5Zcsbj7AU9NtI6H8g",
      "include_colab_link": true
    },
    "kernelspec": {
      "name": "python3",
      "display_name": "Python 3"
    },
    "language_info": {
      "name": "python"
    }
  },
  "cells": [
    {
      "cell_type": "markdown",
      "metadata": {
        "id": "view-in-github",
        "colab_type": "text"
      },
      "source": [
        "<a href=\"https://colab.research.google.com/github/Darry17/ThesisCodes/blob/main/Thesis_Code_Snippets.ipynb\" target=\"_parent\"><img src=\"https://colab.research.google.com/assets/colab-badge.svg\" alt=\"Open In Colab\"/></a>"
      ]
    },
    {
      "cell_type": "markdown",
      "source": [
        "Tools and Frameworks\n",
        "\n",
        "\n",
        "*   Vanilla HTML, CSS, JavaScript (frontend)\n",
        "*   FastAPI (backend)\n",
        "*   MySQL\n",
        "\n",
        "\n",
        "\n"
      ],
      "metadata": {
        "id": "eeYCBaLycTgm"
      }
    }
  ]
}